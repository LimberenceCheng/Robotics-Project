{
 "cells": [
  {
   "cell_type": "code",
   "execution_count": null,
   "metadata": {
    "collapsed": true
   },
   "outputs": [],
   "source": [
    "import numpy as np\n",
    "\n",
    "def to_polar_coords(xpix, ypix):\n",
    "    # Convert coordinates of x and y (cartesian) to\n",
    "    # coordinates of distance and angle (polar)\n",
    "    \n",
    "    # calculate distance to each pixel using pythagoras theorem\n",
    "    dist = np.sqrt(xpix**2 + ypix**2)\n",
    "    # calculate angle using arctangent function\n",
    "    angles = np.arctan2(ypix, xpix)\n",
    "    return dist, angles"
   ]
  },
  {
   "cell_type": "code",
   "execution_count": null,
   "metadata": {
    "collapsed": true
   },
   "outputs": [],
   "source": [
    "distances, angles = to_polar_coords(xpix, ypix)\n",
    "\n",
    "# compute the average angle of the coordinate area\n",
    "avg_angle = np.mean(angles)"
   ]
  },
  {
   "cell_type": "code",
   "execution_count": null,
   "metadata": {
    "collapsed": true
   },
   "outputs": [],
   "source": [
    "# convert the average angle from radians to degrees\n",
    "avg_angle_degrees = avg_angle * 180 / np.pi\n",
    "\n",
    "# clip the avg angle to +/- 15 degrees (steering limit of rover)\n",
    "steering = np.clip(avg_angle_degrees, -15, 15)"
   ]
  }
 ],
 "metadata": {
  "kernelspec": {
   "display_name": "Python [default]",
   "language": "python",
   "name": "python3"
  },
  "language_info": {
   "codemirror_mode": {
    "name": "ipython",
    "version": 3
   },
   "file_extension": ".py",
   "mimetype": "text/x-python",
   "name": "python",
   "nbconvert_exporter": "python",
   "pygments_lexer": "ipython3",
   "version": "3.5.4"
  },
  "widgets": {
   "state": {},
   "version": "1.1.2"
  }
 },
 "nbformat": 4,
 "nbformat_minor": 2
}
